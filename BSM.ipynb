{
 "nbformat": 4,
 "nbformat_minor": 2,
 "metadata": {
  "language_info": {
   "name": "python",
   "codemirror_mode": {
    "name": "ipython",
    "version": 3
   },
   "version": "3.7.5-final"
  },
  "orig_nbformat": 2,
  "file_extension": ".py",
  "mimetype": "text/x-python",
  "name": "python",
  "npconvert_exporter": "python",
  "pygments_lexer": "ipython3",
  "version": 3,
  "kernelspec": {
   "name": "python37564bitbaseconda4e0a7f33af2e41d29cb37e6d6c5e5a7a",
   "display_name": "Python 3.7.5 64-bit ('base': conda)"
  }
 },
 "cells": [
  {
   "cell_type": "code",
   "execution_count": 33,
   "metadata": {},
   "outputs": [],
   "source": [
    "import numpy as np\n",
    "import numpy.random as npr  \n",
    "import pandas as pd\n",
    "import scipy.stats as si\n",
    "from scipy import interpolate\n",
    "from scipy.fftpack import fft, ifft\n",
    "import seaborn as sns\n",
    "import matplotlib.pyplot as plt\n",
    "plt.rcParams['font.family'] = 'serif'"
   ]
  },
  {
   "cell_type": "code",
   "execution_count": 34,
   "metadata": {},
   "outputs": [],
   "source": [
    "S0 = 100.\n",
    "K = 100.\n",
    "r = 0.05\n",
    "q = 0.02\n",
    "sigma = 0.15\n",
    "\n",
    "T = 10\n",
    "M = 1000\n",
    "I = 100000\n",
    "\n",
    "N = 2048\n",
    "x = 7.5"
   ]
  },
  {
   "cell_type": "code",
   "execution_count": 35,
   "metadata": {},
   "outputs": [],
   "source": [
    "def d(S0, K, r, T, sigma, q):\n",
    "    d1 = (np.log(S0 / K) + (r - q + 0.5 * sigma ** 2) * T) / (sigma * np.sqrt(T))\n",
    "    #d2 = (np.log(S / K) + (r - q - 0.5 * sigma ** 2) * T) / (sigma * np.sqrt(T))\n",
    "    d2 = d1 - sigma * np.sqrt(T)\n",
    "    return (d1, d2)\n",
    "\n",
    "def bsmprice(S0, K, r, T, sigma, q):\n",
    "    ''' Valuation of European call option in BSM model.\n",
    "    Analytical formula.\n",
    "\n",
    "    Parameters\n",
    "    ==========\n",
    "    S0: float\n",
    "        initial stock/index level\n",
    "    K: float\n",
    "        strike price\n",
    "    T: float\n",
    "        maturity date (in year fractions)\n",
    "    r: float\n",
    "        constant risk-free short rate\n",
    "    sigma: float\n",
    "        volatility factor in diffusion term\n",
    "\n",
    "    Returns\n",
    "    =======\n",
    "    value: float\n",
    "        present value of the European call option\n",
    "    '''\n",
    "    \n",
    "    d1 = d(S0, K, r, T, sigma, q)[0]\n",
    "    d2 = d(S0, K, r, T, sigma, q)[1]\n",
    "    N_d1 = si.norm.cdf(d1, 0.0, 1.0)\n",
    "    N_d2 = si.norm.cdf(d2, 0.0, 1.0)\n",
    "    call = S0 * np.exp(-q * T) * N_d1 - K * np.exp(-r * T) * N_d2\n",
    "    put = K * np.exp(-r * T) * (1 - N_d2) - S0 * np.exp(-q * T) * (1 - N_d1)\n",
    "    return (call, put)\n",
    "\n",
    "def bsmdelta(S0, K, r, T, sigma, q):\n",
    "    d1 = d(S0, K, r, T, sigma, q)[0]\n",
    "    N_d1 = si.norm.cdf(d1, 0.0, 1.0)\n",
    "    delta_call = np.exp(-q * T) * N_d1\n",
    "    delta_put = np.exp(-q * T) * (N_d1 - 1)\n",
    "    return (delta_call, delta_put)\n",
    "\n",
    "def bsmgamma(S0, K, r, T, sigma, q):\n",
    "    d1 = d(S0, K, r, T, sigma, q)[0]\n",
    "    phi_d1 = si.norm.pdf(d1, 0.0, 1.0)\n",
    "    gamma_call = np.exp(-q * T) / (S0 * sigma * np.sqrt(T)) * phi_d1\n",
    "    gamma_put = gamma_call\n",
    "    return (gamma_call, gamma_put)\n",
    "\n",
    "def bsmvega(S0, K, r, T, sigma, q):\n",
    "    d1 = d(S0, K, r, T, sigma, q)[0]\n",
    "    phi_d1 = si.norm.pdf(d1, 0.0, 1.0)\n",
    "    vega_call = S0 *np.exp(-q * T) * np.sqrt(T) * phi_d1 #/ 100\n",
    "    vega_put = vega_call\n",
    "    return (vega_call, vega_put)\n",
    "\n",
    "def bsmrho(S0, K, r, T, sigma, q):\n",
    "    d2 = d(S0, K, r, T, sigma, q)[1]\n",
    "    N_d2 = si.norm.cdf(d2, 0.0, 1.0)\n",
    "    rho_call = K * T * np.exp(-r * T) * N_d2 #/ 100\n",
    "    rho_put = -K * T * np.exp(-r * T) * (1 - N_d2) #/ 100\n",
    "    return (rho_call, rho_put)"
   ]
  },
  {
   "cell_type": "code",
   "execution_count": 36,
   "metadata": {},
   "outputs": [
    {
     "output_type": "stream",
     "name": "stdout",
     "text": "(26.48487206998933, 5.264862733454487)\n(0.6613278706907427, -0.15740288238723912)\n(0.004717830236169693, 0.004717830236169693)\n(396.4791499908494, -210.05150972178404)\n(70.76745354254543, 70.76745354254543)\n"
    }
   ],
   "source": [
    "print(bsmprice(S0, K, r, T, sigma, q))\n",
    "print(bsmdelta(S0, K, r, T, sigma, q))\n",
    "print(bsmgamma(S0, K, r, T, sigma, q))\n",
    "print(bsmrho(S0, K, r, T, sigma, q))\n",
    "print(bsmvega(S0, K, r, T, sigma, q))"
   ]
  },
  {
   "cell_type": "code",
   "execution_count": 37,
   "metadata": {},
   "outputs": [],
   "source": [
    "def bsmprice_mc(S0, K, r, T, sigma, q, M, I):\n",
    "    ''' Valuation of European options in BSM model\n",
    "    by Monte Carlo simulation (of index level paths)\n",
    "    \n",
    "    Parameters\n",
    "    ==========\n",
    "    K: float\n",
    "        (positive) strike price of the option\n",
    "    option : string\n",
    "        type of the option to be valued ('call', 'put')\n",
    "    \n",
    "    Returns\n",
    "    =======\n",
    "    C0: float\n",
    "        estimated present value of European call option\n",
    "    '''\n",
    "    dt = T / M\n",
    "    # simulation of index level paths\n",
    "    S = np.zeros((M + 1, I))\n",
    "    S[0] = S0\n",
    "    sn = npr.standard_normal((M + 1, I))  \n",
    "    for t in range(1, M + 1, 1):\n",
    "        S[t] = S[t - 1] * np.exp((r - q - 0.5 * sigma ** 2) * dt \n",
    "                + sigma * np.sqrt(dt) * sn[t])     \n",
    "    # case-based calculation of payoff\n",
    "    cT = np.maximum(S[-1] - K, 0)\n",
    "    pT = np.maximum(K - S[-1], 0)\n",
    "    # calculation of MCS estimator\n",
    "    call = np.exp(-r * T) * np.mean(cT)\n",
    "    put = np.exp(-r * T) * np.mean(pT)\n",
    "    return (call, put)"
   ]
  },
  {
   "cell_type": "code",
   "execution_count": 38,
   "metadata": {},
   "outputs": [
    {
     "output_type": "execute_result",
     "data": {
      "text/plain": "(26.643118789215848, 5.243746532870301)"
     },
     "metadata": {},
     "execution_count": 38
    }
   ],
   "source": [
    "bsmprice_mc(S0, K, r, T, sigma, q, M, I)"
   ]
  },
  {
   "cell_type": "code",
   "execution_count": 39,
   "metadata": {},
   "outputs": [],
   "source": [
    "def bsmprice_fst(S0, K, r, T, sigma, q, N, x):\n",
    "    x_max = x\n",
    "    x_min = -x\n",
    "    dx = (x_max - x_min) / (N-1)\n",
    "    x = np.linspace(x_min, x_max, N)\n",
    "\n",
    "    epsilon = 0.0001\n",
    "    w_max = np.pi / dx\n",
    "    dw = 2 * w_max / N\n",
    "    w = np.hstack((np.arange(0, w_max+epsilon, dw), np.arange(-w_max+dw, -dw+epsilon, dw)))\n",
    "\n",
    "    ST = S0 * np.exp(x)\n",
    "    CT = np.maximum(ST - K, 0)\n",
    "    PT = np.maximum(K - ST, 0)\n",
    "\n",
    "    psi = 1j * (r-q-0.5*sigma**2) * w - 0.5 * (sigma*w)**2 - r\n",
    "    char = np.exp(psi * T) # char_exp_factor\n",
    "    C = ifft(fft(CT) * char).real\n",
    "    P = ifft(fft(PT) * char).real\n",
    "    \n",
    "    cf = interpolate.PchipInterpolator(ST, C)\n",
    "    call = cf(S0) + 0.0\n",
    "    pf = interpolate.PchipInterpolator(ST, P)\n",
    "    put = pf(S0) + 0.0\n",
    "    return (call, put)"
   ]
  },
  {
   "cell_type": "code",
   "execution_count": 40,
   "metadata": {},
   "outputs": [
    {
     "output_type": "execute_result",
     "data": {
      "text/plain": "(26.484977611428775, 5.264968302607745)"
     },
     "metadata": {},
     "execution_count": 40
    }
   ],
   "source": [
    "bsmprice_fst(S0, K, r, T, sigma, q, N, x)"
   ]
  },
  {
   "cell_type": "code",
   "execution_count": 41,
   "metadata": {},
   "outputs": [],
   "source": [
    "def bsmgreeks_fst(S0, K, r, T, sigma, q, N, x):\n",
    "    x_max = x\n",
    "    x_min = -x\n",
    "    dx = (x_max - x_min) / (N-1)\n",
    "    x = np.linspace(x_min, x_max, N)\n",
    "\n",
    "    epsilon = 0.0001\n",
    "    w_max = np.pi / dx\n",
    "    dw = 2 * w_max / N\n",
    "    w = np.hstack((np.arange(0, w_max+epsilon, dw), np.arange(-w_max+dw, -dw+epsilon, dw)))\n",
    "\n",
    "    ST = S0 * np.exp(x)\n",
    "    CT = np.maximum(ST - K, 0)\n",
    "    PT = np.maximum(K - ST, 0)\n",
    "\n",
    "    psi = 1j * (r-q-0.5*sigma**2) * w - 0.5 * (sigma*w)**2 - r\n",
    "    char = np.exp(psi * T) # char_exp_factor\n",
    "\n",
    "    de_c = (ifft(1j*w*fft(CT)*char)/ST).real\n",
    "    ga_c = (ifft(-(1j*w+w**2)*fft(CT)*char)/ST**2).real\n",
    "    rh_c = ifft((1j*w-1)*T*fft(CT)*char).real\n",
    "    ve_c = ifft(-(1j*w+w**2)*sigma*T*fft(CT)*char).real\n",
    "\n",
    "    de_p = (ifft(1j*w*fft(PT)*char)/ST).real\n",
    "    ga_p = (ifft(-(1j*w+w**2)*fft(PT)*char)/ST**2).real\n",
    "    rh_p = ifft((1j*w-1)*T*fft(PT)*char).real\n",
    "    ve_p = ifft(-(1j*w+w**2)*sigma*T*fft(PT)*char).real\n",
    "    \n",
    "    f = interpolate.PchipInterpolator(ST, de_c)\n",
    "    De_C = f(S0) + 0.0\n",
    "    f = interpolate.PchipInterpolator(ST, ga_c)\n",
    "    Ga_C = f(S0) + 0.0\n",
    "    f = interpolate.PchipInterpolator(ST, rh_c)\n",
    "    Rh_C = f(S0) + 0.0\n",
    "    f = interpolate.PchipInterpolator(ST, ve_c)\n",
    "    Ve_C = f(S0) + 0.0\n",
    "\n",
    "    f = interpolate.PchipInterpolator(ST, de_p)\n",
    "    De_P = f(S0) + 0.0\n",
    "    f = interpolate.PchipInterpolator(ST, ga_p)\n",
    "    Ga_P = f(S0) + 0.0\n",
    "    f = interpolate.PchipInterpolator(ST, rh_p)\n",
    "    Rh_P = f(S0) + 0.0\n",
    "    f = interpolate.PchipInterpolator(ST, ve_p)\n",
    "    Ve_P = f(S0) + 0.0\n",
    "\n",
    "    return ((De_C, Ga_C, Rh_C, Ve_C), (De_P, Ga_P, Rh_P, Ve_P))"
   ]
  },
  {
   "cell_type": "code",
   "execution_count": 42,
   "metadata": {},
   "outputs": [
    {
     "output_type": "execute_result",
     "data": {
      "text/plain": "((0.6613269906220355,\n  0.0047177994679700975,\n  396.47721454153697,\n  70.76699283305207),\n (-0.15740376251782062,\n  0.004717799467669321,\n  -210.05344521308277,\n  70.76699282853498))"
     },
     "metadata": {},
     "execution_count": 42
    }
   ],
   "source": [
    "bsmgreeks_fst(S0, K, r, T, sigma, q, N, x)"
   ]
  }
 ]
}