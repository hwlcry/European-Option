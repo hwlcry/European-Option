{
 "cells": [
  {
   "cell_type": "code",
   "execution_count": 11,
   "metadata": {},
   "outputs": [],
   "source": [
    "import numpy as np\n",
    "import numpy.linalg as lin\n",
    "import numpy.random as npr \n",
    "import scipy.optimize as sco\n",
    "import scipy.stats as si \n",
    "import time\n",
    "from scipy import interpolate \n",
    "from scipy.linalg import expm\n",
    "from scipy.fftpack import fft, ifft\n",
    "import matplotlib.pyplot as plt\n",
    "plt.rcParams['font.family'] = 'serif'"
   ]
  },
  {
   "cell_type": "code",
   "execution_count": 12,
   "metadata": {},
   "outputs": [],
   "source": [
    "# EUR-A & MJD-A\n",
    "S0 = 100\n",
    "G = 100\n",
    "T = 10\n",
    "M = 10\n",
    "r = 0.05\n",
    "sigma = 0.15\n",
    "m = 0.02\n",
    "lamb = 0.1\n",
    "mu = -1.08\n",
    "nu = 0.4\n",
    "\n",
    "N, X = 2048, 7.5 # FST param.\n",
    "I = 1000000  # Monte Carlo param."
   ]
  },
  {
   "cell_type": "code",
   "execution_count": 13,
   "metadata": {},
   "outputs": [
    {
     "output_type": "stream",
     "name": "stdout",
     "text": "17.999561829439603\n4.389167403431759\n"
    }
   ],
   "source": [
    "def mjd_mc(S0, G, T, r, sigma, m, lamb, mu, nu, M, I):\n",
    "    dt = T / M\n",
    "    kappa = np.exp(mu + 0.5 * nu ** 2) - 1\n",
    "    drift = r - m - lamb * kappa - 0.5 * sigma ** 2\n",
    "    S = np.zeros((M + 1, I))\n",
    "    S[0] = S0\n",
    "    for s in range(I):\n",
    "        for t in range(1, M + 1):\n",
    "            J = 0\n",
    "            Nt = npr.poisson(lamb * dt)\n",
    "            if Nt > 0:\n",
    "                for i in range(Nt):\n",
    "                    J = J + npr.normal(mu, nu)\n",
    "            Z = npr.standard_normal()\n",
    "            S[t, s] = S[t-1, s] * np.exp(drift * dt + sigma * np.sqrt(dt) * Z + J)\n",
    "    pT = np.maximum(G - S[-1], 0)\n",
    "    cT = np.maximum(S[-1] - G, 0)\n",
    "    P0 = np.exp(-r * T) * np.mean(pT)\n",
    "    C0 = np.exp(-r * T) * np.mean(cT)\n",
    "    return (P0, C0)\n",
    "print(mjd_mc(S0, G, T, r, sigma, m, lamb, mu, nu, M, I)[0]) # 18.000379476851418\n",
    "print(mjd_mc(100, 100, 0.25, 0.05, 0.15, 0, 0.1, -0.9, 0.45, M, I)[1]) # 4.392337647703946"
   ]
  },
  {
   "cell_type": "code",
   "execution_count": 10,
   "metadata": {},
   "outputs": [
    {
     "output_type": "stream",
     "name": "stdout",
     "text": "18.000379476851418\n4.392337647703946\n"
    }
   ],
   "source": [
    "def mjd_fst(S0, G, T, r, sigma, m, lamb, mu, nu, N, X):\n",
    "    # Real space\n",
    "    x_min, x_max = -X, X\n",
    "    dx = (x_max - x_min) / (N - 1)\n",
    "    x = np.linspace(x_min, x_max, N)\n",
    "    # Fourier space\n",
    "    epsilon = 0.0001\n",
    "    w_max = np.pi / dx\n",
    "    dw = 2 * w_max / N\n",
    "    w = np.hstack((np.arange(0, w_max + epsilon, dw), np.arange(-w_max + dw, -dw + epsilon, dw)))\n",
    "    # Payoff function at time T\n",
    "    ST = S0 * np.exp(x)\n",
    "    payoff_p = np.maximum(G - ST, 0)\n",
    "    payoff_c = np.maximum(ST - G, 0)\n",
    "    # Matrix characteristic funciton\n",
    "    rj = lamb * (np.exp(mu + 0.5 * nu ** 2) - 1) \n",
    "    psi = 1j * (r - m - rj - 0.5 * sigma ** 2) * w - 0.5 * (sigma * w) ** 2 + lamb * (np.exp(1j * mu * w - 0.5 * (nu * w) ** 2) - 1) - r\n",
    "    char = np.exp(psi * T) # char_exp_factor\n",
    "    # FST method\n",
    "    p = ifft(fft(payoff_p) * char).real\n",
    "    c = ifft(fft(payoff_c) * char).real\n",
    "    # Interpolate prices\n",
    "    fp = interpolate.PchipInterpolator(ST, p)\n",
    "    P = fp(S0)\n",
    "    fc = interpolate.PchipInterpolator(ST, c)\n",
    "    C = fc(S0)\n",
    "    return (float(P), float(C))\n",
    "print(mjd_fst(S0, G, T, r, sigma, m, lamb, mu, nu, N, X)[0]) # 18.000379476851418\n",
    "print(mjd_fst(100, 100, 0.25, 0.05, 0.15, 0, 0.1, -0.9, 0.45, N, X)[1]) # 4.392337647703946"
   ]
  }
 ],
 "metadata": {
  "language_info": {
   "name": "python",
   "codemirror_mode": {
    "name": "ipython",
    "version": 3
   },
   "version": "3.7.5-final"
  },
  "orig_nbformat": 2,
  "file_extension": ".py",
  "mimetype": "text/x-python",
  "name": "python",
  "npconvert_exporter": "python",
  "pygments_lexer": "ipython3",
  "version": 3,
  "kernelspec": {
   "name": "python37564bitbaseconda4e0a7f33af2e41d29cb37e6d6c5e5a7a",
   "display_name": "Python 3.7.5 64-bit ('base': conda)"
  }
 },
 "nbformat": 4,
 "nbformat_minor": 2
}